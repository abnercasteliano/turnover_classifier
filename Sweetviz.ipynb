{
 "cells": [
  {
   "cell_type": "code",
   "execution_count": 1,
   "id": "threatened-equality",
   "metadata": {},
   "outputs": [],
   "source": [
    "# importando os módulos\n",
    "\n",
    "import pandas as pd\n",
    "import numpy as np\n",
    "import glob\n",
    "import seaborn as sns\n",
    "import matplotlib.pyplot as plt\n",
    "%matplotlib inline\n",
    "from minio import Minio\n",
    "import datetime"
   ]
  },
  {
   "cell_type": "code",
   "execution_count": 2,
   "id": "decimal-spell",
   "metadata": {},
   "outputs": [],
   "source": [
    "# conectando ao servidor data laKe\n",
    "\n",
    "client = Minio(\n",
    "    'localhost:9000',\n",
    "    access_key = 'minioadmin',\n",
    "    secret_key = 'minioadmin',\n",
    "    secure = False\n",
    ")"
   ]
  },
  {
   "cell_type": "code",
   "execution_count": 3,
   "id": "executed-criticism",
   "metadata": {},
   "outputs": [],
   "source": [
    "# Importando os dados do Data LaKe\n",
    "\n",
    "client.fget_object(\n",
    "    'processing',\n",
    "    'employees_dataset.parquet',\n",
    "    'temp_.parquet',\n",
    ")\n",
    "df = pd.read_parquet('temp_.parquet')"
   ]
  },
  {
   "cell_type": "markdown",
   "id": "published-blowing",
   "metadata": {},
   "source": [
    "## Data Transformation"
   ]
  },
  {
   "cell_type": "code",
   "execution_count": 4,
   "id": "wicked-tuesday",
   "metadata": {},
   "outputs": [],
   "source": [
    "# posicionando a coluna left - alvo no final\n",
    "\n",
    "df = df[['department', 'salary', 'mean_work_last_3_months', 'number_projects', 'satisfaction_level', 'last_evaluation', \n",
    "        'time_in_company', 'work_accident', 'left']]"
   ]
  },
  {
   "cell_type": "code",
   "execution_count": 5,
   "id": "exact-sydney",
   "metadata": {},
   "outputs": [
    {
     "data": {
      "text/plain": [
       "department                 1\n",
       "salary                     1\n",
       "mean_work_last_3_months    0\n",
       "number_projects            1\n",
       "satisfaction_level         1\n",
       "last_evaluation            1\n",
       "time_in_company            1\n",
       "work_accident              1\n",
       "left                       1\n",
       "dtype: int64"
      ]
     },
     "execution_count": 5,
     "metadata": {},
     "output_type": "execute_result"
    }
   ],
   "source": [
    "# missing values\n",
    "\n",
    "df.isnull().sum()"
   ]
  },
  {
   "cell_type": "code",
   "execution_count": 6,
   "id": "pharmaceutical-louis",
   "metadata": {},
   "outputs": [],
   "source": [
    "# dropando missings\n",
    "\n",
    "df.dropna(axis = 0, inplace = True)"
   ]
  },
  {
   "cell_type": "code",
   "execution_count": 7,
   "id": "polyphonic-bradley",
   "metadata": {},
   "outputs": [
    {
     "data": {
      "text/plain": [
       "department                 0\n",
       "salary                     0\n",
       "mean_work_last_3_months    0\n",
       "number_projects            0\n",
       "satisfaction_level         0\n",
       "last_evaluation            0\n",
       "time_in_company            0\n",
       "work_accident              0\n",
       "left                       0\n",
       "dtype: int64"
      ]
     },
     "execution_count": 7,
     "metadata": {},
     "output_type": "execute_result"
    }
   ],
   "source": [
    "df.isnull().sum()"
   ]
  },
  {
   "cell_type": "code",
   "execution_count": 8,
   "id": "dressed-transition",
   "metadata": {},
   "outputs": [
    {
     "data": {
      "text/plain": [
       "department                  object\n",
       "salary                      object\n",
       "mean_work_last_3_months    float64\n",
       "number_projects            float64\n",
       "satisfaction_level         float64\n",
       "last_evaluation            float64\n",
       "time_in_company            float64\n",
       "work_accident               object\n",
       "left                       float64\n",
       "dtype: object"
      ]
     },
     "execution_count": 8,
     "metadata": {},
     "output_type": "execute_result"
    }
   ],
   "source": [
    "# verificando o tipo dos dados\n",
    "\n",
    "df.dtypes"
   ]
  },
  {
   "cell_type": "code",
   "execution_count": 11,
   "id": "concerned-organizer",
   "metadata": {},
   "outputs": [],
   "source": [
    "# renomeando os atributos muito grandes\n",
    "\n",
    "df = df.rename(columns = {'mean_work_last_3_months' : 'monthlyHours', \n",
    "                          'number_projects' : 'projectsCounts', \n",
    "                          'satisfaction_level' : 'satisfactionLevel', \n",
    "                          'last_evaluation': 'evaluation', \n",
    "                          'time_in_company' : 'yearsAtCompany', \n",
    "                          'work_accident' : 'workAccident', \n",
    "                          'left' : 'turnover'})"
   ]
  },
  {
   "cell_type": "code",
   "execution_count": 12,
   "id": "personal-camping",
   "metadata": {},
   "outputs": [
    {
     "data": {
      "text/plain": [
       "0.0    0.761917\n",
       "1.0    0.238083\n",
       "Name: turnover, dtype: float64"
      ]
     },
     "execution_count": 12,
     "metadata": {},
     "output_type": "execute_result"
    }
   ],
   "source": [
    "# taxa de turnnover\n",
    "\n",
    "turnover_rate = df.turnover.value_counts() / len(df)\n",
    "turnover_rate"
   ]
  },
  {
   "cell_type": "code",
   "execution_count": 13,
   "id": "brutal-founder",
   "metadata": {},
   "outputs": [
    {
     "name": "stdout",
     "output_type": "stream",
     "text": [
      "Collecting sweetviz\n",
      "  Downloading sweetviz-2.1.3-py3-none-any.whl (15.1 MB)\n",
      "Requirement already satisfied: scipy>=1.3.2 in c:\\users\\abner\\anaconda3\\lib\\site-packages (from sweetviz) (1.6.2)\n",
      "Requirement already satisfied: numpy>=1.16.0 in c:\\users\\abner\\anaconda3\\lib\\site-packages (from sweetviz) (1.19.2)\n",
      "Requirement already satisfied: tqdm>=4.43.0 in c:\\users\\abner\\anaconda3\\lib\\site-packages (from sweetviz) (4.59.0)\n",
      "Requirement already satisfied: pandas!=1.0.0,!=1.0.1,!=1.0.2,>=0.25.3 in c:\\users\\abner\\anaconda3\\lib\\site-packages (from sweetviz) (1.2.3)\n",
      "Requirement already satisfied: importlib-resources>=1.2.0 in c:\\users\\abner\\anaconda3\\lib\\site-packages (from sweetviz) (1.5.0)\n",
      "Requirement already satisfied: jinja2>=2.11.1 in c:\\users\\abner\\anaconda3\\lib\\site-packages (from sweetviz) (2.11.3)\n",
      "Requirement already satisfied: matplotlib>=3.1.3 in c:\\users\\abner\\anaconda3\\lib\\site-packages (from sweetviz) (3.3.4)\n",
      "Requirement already satisfied: importlib-metadata in c:\\users\\abner\\anaconda3\\lib\\site-packages (from importlib-resources>=1.2.0->sweetviz) (4.6.1)\n",
      "Requirement already satisfied: zipp>=0.4 in c:\\users\\abner\\anaconda3\\lib\\site-packages (from importlib-resources>=1.2.0->sweetviz) (3.4.1)\n",
      "Requirement already satisfied: MarkupSafe>=0.23 in c:\\users\\abner\\anaconda3\\lib\\site-packages (from jinja2>=2.11.1->sweetviz) (1.1.1)\n",
      "Requirement already satisfied: pyparsing!=2.0.4,!=2.1.2,!=2.1.6,>=2.0.3 in c:\\users\\abner\\anaconda3\\lib\\site-packages (from matplotlib>=3.1.3->sweetviz) (2.4.7)\n",
      "Requirement already satisfied: pillow>=6.2.0 in c:\\users\\abner\\anaconda3\\lib\\site-packages (from matplotlib>=3.1.3->sweetviz) (8.1.2)\n",
      "Requirement already satisfied: kiwisolver>=1.0.1 in c:\\users\\abner\\anaconda3\\lib\\site-packages (from matplotlib>=3.1.3->sweetviz) (1.3.1)\n",
      "Requirement already satisfied: python-dateutil>=2.1 in c:\\users\\abner\\anaconda3\\lib\\site-packages (from matplotlib>=3.1.3->sweetviz) (2.8.1)\n",
      "Requirement already satisfied: cycler>=0.10 in c:\\users\\abner\\anaconda3\\lib\\site-packages (from matplotlib>=3.1.3->sweetviz) (0.10.0)\n",
      "Requirement already satisfied: six in c:\\users\\abner\\anaconda3\\lib\\site-packages (from cycler>=0.10->matplotlib>=3.1.3->sweetviz) (1.15.0)\n",
      "Requirement already satisfied: pytz>=2017.3 in c:\\users\\abner\\anaconda3\\lib\\site-packages (from pandas!=1.0.0,!=1.0.1,!=1.0.2,>=0.25.3->sweetviz) (2021.1)\n",
      "Requirement already satisfied: typing-extensions>=3.6.4 in c:\\users\\abner\\anaconda3\\lib\\site-packages (from importlib-metadata->importlib-resources>=1.2.0->sweetviz) (3.7.4.3)\n",
      "Installing collected packages: sweetviz\n",
      "Successfully installed sweetviz-2.1.3\n"
     ]
    }
   ],
   "source": [
    "## Sweetviz - análise resumida\n",
    "\n",
    "!pip install sweetviz"
   ]
  },
  {
   "cell_type": "code",
   "execution_count": 14,
   "id": "historical-boating",
   "metadata": {},
   "outputs": [
    {
     "data": {
      "application/vnd.jupyter.widget-view+json": {
       "model_id": "e4b1b9efe94f4ba496a35dcb36b3f642",
       "version_major": 2,
       "version_minor": 0
      },
      "text/plain": [
       "                                             |                                             | [  0%]   00:00 ->…"
      ]
     },
     "metadata": {},
     "output_type": "display_data"
    },
    {
     "name": "stdout",
     "output_type": "stream",
     "text": [
      "Report SWEETVIZ_REPORT.html was generated! NOTEBOOK/COLAB USERS: the web browser MAY not pop up, regardless, the report IS saved in your notebook/colab files.\n"
     ]
    }
   ],
   "source": [
    "import sweetviz as sv\n",
    "\n",
    "report = sv.analyze(df, 'turnover')\n",
    "report.show_html()"
   ]
  },
  {
   "cell_type": "code",
   "execution_count": null,
   "id": "rising-jumping",
   "metadata": {},
   "outputs": [],
   "source": []
  }
 ],
 "metadata": {
  "kernelspec": {
   "display_name": "Python 3",
   "language": "python",
   "name": "python3"
  },
  "language_info": {
   "codemirror_mode": {
    "name": "ipython",
    "version": 3
   },
   "file_extension": ".py",
   "mimetype": "text/x-python",
   "name": "python",
   "nbconvert_exporter": "python",
   "pygments_lexer": "ipython3",
   "version": "3.7.4"
  }
 },
 "nbformat": 4,
 "nbformat_minor": 5
}
